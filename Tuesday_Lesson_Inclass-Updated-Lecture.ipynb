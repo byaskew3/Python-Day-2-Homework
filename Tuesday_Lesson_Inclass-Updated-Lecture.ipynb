{
 "cells": [
  {
   "cell_type": "markdown",
   "source": [
    "# Functions, Scoping, Data Collections 1 & List Comprehensions"
   ],
   "metadata": {}
  },
  {
   "cell_type": "markdown",
   "source": [
    "## Tasks Today:\n",
    "\n",
    "<i>Monday Additions (or, and ... if statements)</i>\n",
    "\n",
    "1) String Manipulation <br>\n",
    " &nbsp;&nbsp;&nbsp;&nbsp; a) strip() <br>\n",
    " &nbsp;&nbsp;&nbsp;&nbsp; b) title() <br>\n",
    "2) Working With Lists <br>\n",
    " &nbsp;&nbsp;&nbsp;&nbsp; a) min() <br>\n",
    " &nbsp;&nbsp;&nbsp;&nbsp; b) max() <br>\n",
    " &nbsp;&nbsp;&nbsp;&nbsp; c) sum() <br>\n",
    " &nbsp;&nbsp;&nbsp;&nbsp; d) sort() <br>\n",
    " &nbsp;&nbsp;&nbsp;&nbsp; e) Copying a List <br>\n",
    " &nbsp;&nbsp;&nbsp;&nbsp; f) 'in' keyword <br>\n",
    " &nbsp;&nbsp;&nbsp;&nbsp; g) 'not in' keyword <br>\n",
    " &nbsp;&nbsp;&nbsp;&nbsp; i) Checking an Empty List <br>\n",
    " &nbsp;&nbsp;&nbsp;&nbsp; j) Removing Instances with a Loop <br>\n",
    "3) List Comprehensions <br>\n",
    "4) Tuples <br>\n",
    " &nbsp;&nbsp;&nbsp;&nbsp; a) sorted() <br>\n",
    "5) Functions <br>\n",
    " &nbsp;&nbsp;&nbsp;&nbsp; a) User-Defined vs. Built-In Functions <br>\n",
    " &nbsp;&nbsp;&nbsp;&nbsp; b) Accepting Parameters <br>\n",
    " &nbsp;&nbsp;&nbsp;&nbsp; c) Default Parameters <br>\n",
    " &nbsp;&nbsp;&nbsp;&nbsp; d) Making an Argument Optional <br>\n",
    " &nbsp;&nbsp;&nbsp;&nbsp; e) Keyword Arguments <br>\n",
    " &nbsp;&nbsp;&nbsp;&nbsp; f) Returning Values <br>\n",
    " &nbsp;&nbsp;&nbsp;&nbsp; g) *args <br>\n",
    " &nbsp;&nbsp;&nbsp;&nbsp; h) Docstring <br>\n",
    " &nbsp;&nbsp;&nbsp;&nbsp; i) Using a User Function in a Loop <br>\n",
    "6) Scope"
   ],
   "metadata": {}
  },
  {
   "cell_type": "markdown",
   "source": [
    "### String Manipulation"
   ],
   "metadata": {}
  },
  {
   "cell_type": "markdown",
   "source": [
    "##### .lstrip()"
   ],
   "metadata": {}
  },
  {
   "cell_type": "code",
   "execution_count": 2,
   "source": [
    "# string.lstrip()\r\n",
    "mystring = \"        Fennec Fox      \"\r\n",
    "print(mystring)\r\n",
    "mystring = mystring.lstrip()\r\n",
    "print(mystring)\r\n"
   ],
   "outputs": [
    {
     "output_type": "stream",
     "name": "stdout",
     "text": [
      "        Fennec Fox      \n",
      "Fennec Fox      \n"
     ]
    }
   ],
   "metadata": {}
  },
  {
   "cell_type": "markdown",
   "source": [
    "##### .rstrip()"
   ],
   "metadata": {}
  },
  {
   "cell_type": "code",
   "execution_count": 3,
   "source": [
    "# string.rstrip()\r\n",
    "mystring = \"        Fennec Fox      \"\r\n",
    "print(mystring)\r\n",
    "mystring = mystring.rstrip()\r\n",
    "print(mystring)"
   ],
   "outputs": [
    {
     "output_type": "stream",
     "name": "stdout",
     "text": [
      "        Fennec Fox      \n",
      "        Fennec Fox\n"
     ]
    }
   ],
   "metadata": {}
  },
  {
   "cell_type": "markdown",
   "source": [
    "##### .strip()"
   ],
   "metadata": {}
  },
  {
   "cell_type": "code",
   "execution_count": 4,
   "source": [
    "# string.strip()\r\n",
    "# strip can be used to remove any specified string - not just its default which is whitespace\r\n",
    "mystring = \"        Fennec Fox      \"\r\n",
    "print(mystring)\r\n",
    "mystring = mystring.strip()\r\n",
    "print(mystring)"
   ],
   "outputs": [
    {
     "output_type": "stream",
     "name": "stdout",
     "text": [
      "        Fennec Fox      \n",
      "Fennec Fox\n"
     ]
    }
   ],
   "metadata": {}
  },
  {
   "cell_type": "markdown",
   "source": [
    "##### .title()"
   ],
   "metadata": {}
  },
  {
   "cell_type": "code",
   "execution_count": 6,
   "source": [
    "# string.title()\r\n",
    "# string.upper()\r\n",
    "# string.lower()\r\n",
    "aword = \"sEaN SpenCeR\"\r\n",
    "aword = aword.title()\r\n",
    "print(aword) # set the variabel equal to the function call to save the returned value because strings are immuntable\r\n",
    "aword = aword.lower()"
   ],
   "outputs": [
    {
     "output_type": "stream",
     "name": "stdout",
     "text": [
      "Sean Spencer\n"
     ]
    }
   ],
   "metadata": {}
  },
  {
   "cell_type": "markdown",
   "source": [
    "### String Exercise <br>\n",
    "<p>Strip all white space and capitalize every name in the list given</p>"
   ],
   "metadata": {}
  },
  {
   "cell_type": "code",
   "execution_count": 35,
   "source": [
    "names = ['    coNNor', 'max', ' EVan ', 'JORDAN']\r\n",
    "# HINT: You will need to use a for loop for iteration\r\n",
    "for name in names:\r\n",
    "    stripped_name = name.strip()\r\n",
    "    titled_name = stripped_name.title()\r\n",
    "    print(titled_name)\r\n"
   ],
   "outputs": [
    {
     "output_type": "stream",
     "name": "stdout",
     "text": [
      "['C', 'o', 'n', 'n', 'o', 'r']\n",
      "['M', 'a', 'x']\n",
      "['E', 'v', 'a', 'n']\n",
      "['J', 'o', 'r', 'd', 'a', 'n']\n"
     ]
    }
   ],
   "metadata": {}
  },
  {
   "cell_type": "code",
   "execution_count": 22,
   "source": [
    "names = ['    coNNor', 'max', ' EVan ', 'JORDAN']\r\n",
    "for i in range(len(names)):\r\n",
    "    names[i] = names[i].strip().title()\r\n",
    "\r\n",
    "print(names)"
   ],
   "outputs": [
    {
     "output_type": "stream",
     "name": "stdout",
     "text": [
      "['Connor', 'Max', 'Evan', 'Jordan']\n"
     ]
    }
   ],
   "metadata": {}
  },
  {
   "cell_type": "markdown",
   "source": [
    "### Working With Lists"
   ],
   "metadata": {}
  },
  {
   "cell_type": "markdown",
   "source": [
    "##### min()"
   ],
   "metadata": {}
  },
  {
   "cell_type": "code",
   "execution_count": 25,
   "source": [
    "# min(list)\r\n",
    "nums = [-120, 5, 3, 2, -93, -1]\r\n",
    "print(min(nums))\r\n",
    "print(min(names))\r\n"
   ],
   "outputs": [
    {
     "output_type": "stream",
     "name": "stdout",
     "text": [
      "-120\n",
      "Connor\n"
     ]
    }
   ],
   "metadata": {}
  },
  {
   "cell_type": "markdown",
   "source": [
    "##### max()"
   ],
   "metadata": {}
  },
  {
   "cell_type": "code",
   "execution_count": 26,
   "source": [
    "# max(list)\r\n",
    "nums = [-120, 5, 3, 2, -93, -1]\r\n",
    "print(max(nums))\r\n",
    "print(max(names))\r\n"
   ],
   "outputs": [
    {
     "output_type": "stream",
     "name": "stdout",
     "text": [
      "5\n",
      "Max\n"
     ]
    }
   ],
   "metadata": {}
  },
  {
   "cell_type": "markdown",
   "source": [
    "##### sum()"
   ],
   "metadata": {}
  },
  {
   "cell_type": "code",
   "execution_count": 27,
   "source": [
    "# sum(list)\r\n",
    "# cannot use sum() with strings\r\n",
    "sum(nums)"
   ],
   "outputs": [
    {
     "output_type": "execute_result",
     "data": {
      "text/plain": [
       "-204"
      ]
     },
     "metadata": {},
     "execution_count": 27
    }
   ],
   "metadata": {}
  },
  {
   "cell_type": "markdown",
   "source": [
    "##### sorted()"
   ],
   "metadata": {}
  },
  {
   "cell_type": "code",
   "execution_count": 31,
   "source": [
    "# sorted(list)\r\n",
    "animals = [\"Fox\", \"Bear\", \"Cat\", \"Dog\"]\r\n",
    "#is a copy of the original list\r\n",
    "animals_sorted = sorted(animals)\r\n",
    "print(animals_sorted)"
   ],
   "outputs": [
    {
     "output_type": "stream",
     "name": "stdout",
     "text": [
      "['Bear', 'Cat', 'Dog', 'Fox']\n"
     ]
    }
   ],
   "metadata": {}
  },
  {
   "cell_type": "markdown",
   "source": [
    "##### .sort() <br>\n",
    "<p>Difference between sort and sorted, is that sorted doesn't change original list it returns a copy, while .sort changes the original list</p>"
   ],
   "metadata": {}
  },
  {
   "cell_type": "code",
   "execution_count": 30,
   "source": [
    "# list.sort()\r\n",
    "animals = [\"Fox\", \"Bear\", \"Cat\", \"Dog\"]\r\n",
    "animals.sort()\r\n",
    "print(animals)\r\n",
    "\r\n",
    "# use sorted when you don't want to alter original list, use .sort() when you want to alter original list"
   ],
   "outputs": [
    {
     "output_type": "stream",
     "name": "stdout",
     "text": [
      "['Bear', 'Cat', 'Dog', 'Fox']\n"
     ]
    }
   ],
   "metadata": {}
  },
  {
   "cell_type": "markdown",
   "source": [
    "##### Copying a List"
   ],
   "metadata": {}
  },
  {
   "cell_type": "code",
   "execution_count": 34,
   "source": [
    "# [:] or .copy() copies a list, doesn't alter original\r\n",
    "# technically an example of list slicing\r\n",
    "animals = [\"Fox\", \"Bear\", \"Cat\", \"Dog\"]\r\n",
    "animalscopy = animals.copy()\r\n",
    "animalsslice = animals[:]\r\n",
    "\r\n",
    "print(animalscopy)\r\n",
    "print(animalsslice)\r\n",
    "\r\n",
    "# list slicing: makes a copy of a slice(aka seclected indexes) of a list\r\n",
    "# list[start:stop:step]\r\n",
    "animals[::-1] # reverse list copy\r\n",
    "animals[::2] # every other item in the list\r\n",
    "animals[1::2] # every other item in the list starting from the 1st index"
   ],
   "outputs": [
    {
     "output_type": "stream",
     "name": "stdout",
     "text": [
      "['Fox', 'Bear', 'Cat', 'Dog']\n",
      "['Fox', 'Bear', 'Cat', 'Dog']\n"
     ]
    }
   ],
   "metadata": {}
  },
  {
   "cell_type": "markdown",
   "source": [
    "##### 'in' keyword"
   ],
   "metadata": {}
  },
  {
   "cell_type": "code",
   "execution_count": 37,
   "source": [
    "\r\n",
    "# membership check\r\n",
    "animals = [\"Fox\", \"Bear\", \"Cat\", \"Dog\"]\r\n",
    "\r\n",
    "if \"Fox\" in animals:\r\n",
    "    print(\"Its there!\")"
   ],
   "outputs": [],
   "metadata": {}
  },
  {
   "cell_type": "markdown",
   "source": [
    "##### 'not in' keyword"
   ],
   "metadata": {}
  },
  {
   "cell_type": "code",
   "execution_count": null,
   "source": [
    "# negative membership check\r\n",
    "animals = [\"Fox\", \"Bear\", \"Cat\", \"Dog\"]\r\n",
    "\r\n",
    "if \"Potato\" not in animals:\r\n",
    "    print(\"duh\")"
   ],
   "outputs": [],
   "metadata": {}
  },
  {
   "cell_type": "markdown",
   "source": [
    "##### Checking an Empty List"
   ],
   "metadata": {}
  },
  {
   "cell_type": "code",
   "execution_count": 39,
   "source": [
    "# if l_1: or if l_1 = []\r\n",
    "\r\n",
    "l_1 = []\r\n",
    "\r\n",
    "print(l_1)\r\n",
    "\r\n",
    "#an empty list on its own will evaluate to False\r\n",
    "if l_1 == []:\r\n",
    "    print(\"The list is empty\")\r\n",
    "else:\r\n",
    "    print(\"This list is not empty.\")\r\n",
    "\r\n",
    "if not l_1: # if there is not something l_1 / if l_1 evaluates to False\r\n",
    "    print(\"This list is empty\")\r\n",
    "else:\r\n",
    "    print(\"This list is not empty\")\r\n"
   ],
   "outputs": [
    {
     "output_type": "stream",
     "name": "stdout",
     "text": [
      "[]\n",
      "This list is empty.\n"
     ]
    }
   ],
   "metadata": {}
  },
  {
   "cell_type": "markdown",
   "source": [
    "##### Removing Instances with a Loop"
   ],
   "metadata": {}
  },
  {
   "cell_type": "code",
   "execution_count": 48,
   "source": [
    "# while, remove\r\n",
    "colors = [\"purple\", \"red\", \"pizza\", \"pizza\", \"blue\", \"yellow\", \"brown\", \"pizza\"]\r\n",
    "\r\n",
    "while \"pizza\" in colors:\r\n",
    "        colors.remove(\"pizza\")\r\n",
    "\r\n",
    "print(colors)\r\n",
    "\r\n",
    "# another approach: new list where \"Roger\" doesn't get added!\r\n",
    "# we aren't modifying the original list here - we're just creating a new list\r\n",
    "\r\n",
    "newlist = []\r\n",
    "for i in colors:\r\n",
    "        if i != \"pizza\":\r\n",
    "                newlist.append(i)\r\n",
    "print(newlist)"
   ],
   "outputs": [
    {
     "output_type": "stream",
     "name": "stdout",
     "text": [
      "['purple', 'red', 'blue', 'yellow', 'brown']\n",
      "['purple', 'red', 'blue', 'yellow', 'brown']\n"
     ]
    }
   ],
   "metadata": {}
  },
  {
   "cell_type": "markdown",
   "source": [
    "### List Exercise <br>\n",
    "<p>Remove all duplicates<br><b>Extra: Create a program that will remove any duplicates from a given list</b></p>"
   ],
   "metadata": {}
  },
  {
   "cell_type": "code",
   "execution_count": 56,
   "source": [
    "names = ['connor', 'connor', 'bob', 'connor', 'evan', 'max', 'evan', 2, 2, 2, 3, 3, 4, 'bob', 'kevin']\r\n",
    "# Hint 1: You will need an append\r\n",
    "# Hint 2: Using an empty list will make life easier\r\n",
    "newlist = []\r\n",
    "for name in names:\r\n",
    "    if name not in newlist:\r\n",
    "        newlist.append(name)\r\n",
    "print(newlist)"
   ],
   "outputs": [
    {
     "output_type": "stream",
     "name": "stdout",
     "text": [
      "['connor', 'connor', 'max', 2, 2, 3, 'bob']\n"
     ]
    }
   ],
   "metadata": {}
  },
  {
   "cell_type": "code",
   "execution_count": null,
   "source": [],
   "outputs": [],
   "metadata": {}
  },
  {
   "cell_type": "markdown",
   "source": [
    "### List Comprehensions <br>\n",
    "<p>Creating a quickly generated list to work with<br>*result*  = [*transform*    *iteration*         *filter*     ]</p>"
   ],
   "metadata": {}
  },
  {
   "cell_type": "markdown",
   "source": [
    "##### In a list comprehension we have a few pieces:\n",
    "1. The first is the counter/ variable - IN this the variable is x\n",
    "2. then we have a transform for the variable\n",
    "3. The finale part of a list comp is called the condition\n",
    "\n",
    "```python\n",
    "    [variable, transform, condition]\n",
    "```"
   ],
   "metadata": {}
  },
  {
   "cell_type": "code",
   "execution_count": 59,
   "source": [
    "# newlist = [x for x in oldlist(or other iterable)]\r\n",
    "# number comprehension\r\n",
    "nums = [x for x in range(1,11)]\r\n",
    "print(nums)\r\n",
    "# With a regular for loop\r\n",
    "nums = []\r\n",
    "for x in range(1,11):\r\n",
    "    nums.append(x)\r\n",
    "print(nums)\r\n",
    "\r\n",
    "# IN a list comprehension we have a few pieces:\r\n",
    "# The first is the counter/ variable - IN this the variable is x\r\n",
    "# Then we have a transform for the variable \r\n",
    "# The finale part of a list comp is called the condition\r\n",
    "#[variable, transform, condition]\r\n",
    "\r\n",
    "\r\n",
    "\r\n"
   ],
   "outputs": [
    {
     "output_type": "stream",
     "name": "stdout",
     "text": [
      "[1, 2, 3, 4, 5, 6, 7, 8, 9, 10]\n",
      "[1, 2, 3, 4, 5, 6, 7, 8, 9, 10]\n"
     ]
    }
   ],
   "metadata": {}
  },
  {
   "cell_type": "markdown",
   "source": [
    "There are a few benefits to using List comprehensions. The most obvious would be that we now have shorter code to work with instead of using 3+ lines of code in the for loop variant.\n",
    "\n",
    "Another is an added benefit to memory usage. Since the list's memory is allocated first before adding elements to it, we don't have to resize the list once we add elements to it.\n",
    "\n",
    "Lastly, list comprehensions are considered the \"pythonic\" way to write code by the PEP8 standards (Python Style Guide)"
   ],
   "metadata": {}
  },
  {
   "cell_type": "code",
   "execution_count": 62,
   "source": [
    "# square number comprehension\r\n",
    "nums = [ 1,2,3,4,5,6,7,8,9,10]\r\n",
    "\r\n",
    "squares = [x**2 for x in nums]\r\n",
    "print(squares)\r\n",
    "\r\n",
    "# go a step further -> only bring those squares into the new list if they are even\r\n",
    "\r\n",
    "evensquares = [x**2 for x in nums if x**2 % 2 == 0]\r\n",
    "print(evensquares)"
   ],
   "outputs": [
    {
     "output_type": "stream",
     "name": "stdout",
     "text": [
      "[1, 4, 9, 16, 25, 36, 49, 64, 81, 100]\n",
      "[4, 16, 36, 64, 100]\n"
     ]
    }
   ],
   "metadata": {}
  },
  {
   "cell_type": "code",
   "execution_count": 66,
   "source": [
    "# string comprehension\r\n",
    "colors = [\"purPLE\", \"rEd\", \"pizza\", \"pizza\", \"blUe\", \"yeLLow\", \"brown\", \"pizza\"]\r\n",
    "newlist = []\r\n",
    "for i in colors:\r\n",
    "        if i != \"pizza\":\r\n",
    "                newlist.append(i)\r\n",
    "print(newlist)\r\n",
    "\r\n",
    "guscolors = [color.strip().title() for color in colors if color != \"pizza\"]\r\n",
    "print(guscolors)"
   ],
   "outputs": [
    {
     "output_type": "stream",
     "name": "stdout",
     "text": [
      "['purPLE', 'rEd', 'blUe', 'yeLLow', 'brown']\n",
      "['Purple', 'Red', 'Blue', 'Yellow', 'Brown']\n"
     ]
    }
   ],
   "metadata": {}
  },
  {
   "cell_type": "code",
   "execution_count": null,
   "source": [],
   "outputs": [],
   "metadata": {}
  },
  {
   "cell_type": "code",
   "execution_count": null,
   "source": [],
   "outputs": [],
   "metadata": {}
  },
  {
   "cell_type": "markdown",
   "source": [
    "### Tuples <br>\n",
    "<p><b>Defined as an immutable list</b></p><br>Seperated by commas using parenthesis"
   ],
   "metadata": {}
  },
  {
   "cell_type": "code",
   "execution_count": 74,
   "source": [
    "# same as defining a list - just using parenthesis instead of square brackets\r\n",
    "# () are gonna be our syntax clue for tuples\r\n",
    "mytuple = (\"This\", \"is\", \"a\", \"tuple\")\r\n",
    "print(mytuple)\r\n",
    "# often used to protect data integrity - if you have values you don't want changed\r\n",
    "\r\n",
    "# to change a value from a tuple, you must copy the tuple as a list and work with that new list\r\n",
    "newlist = list(mytuple)\r\n",
    "newlist[0] = \"The\"\r\n",
    "print(newlist)"
   ],
   "outputs": [
    {
     "output_type": "stream",
     "name": "stdout",
     "text": [
      "['This', 'a', 'is', 'tuple']\n",
      "('This', 'is', 'a', 'tuple')\n",
      "['The', 'is', 'a', 'tuple']\n"
     ]
    }
   ],
   "metadata": {}
  },
  {
   "cell_type": "markdown",
   "source": [
    "##### sorted()"
   ],
   "metadata": {}
  },
  {
   "cell_type": "code",
   "execution_count": 75,
   "source": [
    "print(sorted(mytuple))\r\n",
    "print(sorted(mytuple, reverse=True))"
   ],
   "outputs": [
    {
     "output_type": "stream",
     "name": "stdout",
     "text": [
      "['This', 'a', 'is', 'tuple']\n",
      "['tuple', 'is', 'a', 'This']\n"
     ]
    }
   ],
   "metadata": {}
  },
  {
   "cell_type": "markdown",
   "source": [
    "##### Adding values to a Tuple"
   ],
   "metadata": {}
  },
  {
   "cell_type": "code",
   "execution_count": 78,
   "source": [
    "# two options -> convert to and from a list, modify the list\r\n",
    "# tuple concatenation\r\n",
    "\r\n",
    "atuple = (1,2,3)\r\n",
    "# add the number 4\r\n",
    "atuple = list(atuple)\r\n",
    "atuple.append(4)\r\n",
    "atuple = tuple(atuple)\r\n",
    "print(atuple)\r\n",
    "\r\n",
    "atuple = (1,2,3)\r\n",
    "\r\n",
    "atuple = atuple + (4,)\r\n",
    "print(atuple)"
   ],
   "outputs": [
    {
     "output_type": "stream",
     "name": "stdout",
     "text": [
      "(1, 2, 3, 4)\n",
      "(1, 2, 3, 8)\n"
     ]
    }
   ],
   "metadata": {}
  },
  {
   "cell_type": "markdown",
   "source": [
    "## Functions"
   ],
   "metadata": {}
  },
  {
   "cell_type": "markdown",
   "source": [
    "##### User-Defined vs. Built-In Functions"
   ],
   "metadata": {}
  },
  {
   "cell_type": "code",
   "execution_count": 80,
   "source": [
    "#built-in functions = print(), max(), min(), range() anything like that we're using a built in function\r\n",
    "print(\"Hello\")\r\n",
    "\r\n",
    "#user-defined: before we can call it, we must define it,\r\n",
    "#note that this doesn't mean we can skip the function call\r\n",
    "# a function definition on its own deosn't do anything -> its just a blueprint or a plan for the process\r\n",
    "\r\n",
    "# def function_name():\r\n",
    "    # process\r\n",
    "    # reutrn something (or nothing)\r\n",
    "\r\n",
    "# after defined - can call\r\n",
    "# function_name(inputs/parameters/arguments as needed)\r\n",
    "\r\n",
    "def hello_world():\r\n",
    "    hellostr = \"Hello, Foxes!\"\r\n",
    "    return hellostr\r\n",
    "\r\n",
    "print(hello_world())"
   ],
   "outputs": [
    {
     "output_type": "stream",
     "name": "stdout",
     "text": [
      "Hello\n"
     ]
    },
    {
     "output_type": "execute_result",
     "data": {
      "text/plain": [
       "'Hello, Foxes!'"
      ]
     },
     "metadata": {},
     "execution_count": 80
    }
   ],
   "metadata": {}
  },
  {
   "cell_type": "markdown",
   "source": [
    "##### Accepting Parameters"
   ],
   "metadata": {}
  },
  {
   "cell_type": "code",
   "execution_count": 84,
   "source": [
    "# tell the function it needs to accept input in the definition line\r\n",
    "def hello_name(name):\r\n",
    "    return f\"Hello, {name.title()}!\"\r\n",
    "\r\n",
    "hello_name(\"christian\")\r\n",
    "\r\n",
    "# two parameters\r\n",
    "def hello_name(name1, name2):\r\n",
    "    return f\"Hello, {name1.title()} and {name2.title()}!\"\r\n",
    "\r\n",
    "hello_name(\"christian\", \"lawrence\")"
   ],
   "outputs": [
    {
     "output_type": "execute_result",
     "data": {
      "text/plain": [
       "'Hello, Christian and Lawrence!'"
      ]
     },
     "metadata": {},
     "execution_count": 84
    }
   ],
   "metadata": {}
  },
  {
   "cell_type": "code",
   "execution_count": null,
   "source": [
    "# Functionality: it has no functionality, this is an examply\r\n",
    "# Input: accepts two paramenters -> input1 should be a ____ and input 2 should be a ________\r\n",
    "# Output: returns the output variable, which will be _______\r\n",
    "def function_name(input1, input2):\r\n",
    "    return output"
   ],
   "outputs": [],
   "metadata": {}
  },
  {
   "cell_type": "markdown",
   "source": [
    "##### Default Parameters"
   ],
   "metadata": {}
  },
  {
   "cell_type": "code",
   "execution_count": null,
   "source": [],
   "outputs": [],
   "metadata": {}
  },
  {
   "cell_type": "markdown",
   "source": [
    "##### Making an Argument Optional"
   ],
   "metadata": {}
  },
  {
   "cell_type": "code",
   "execution_count": null,
   "source": [],
   "outputs": [],
   "metadata": {}
  },
  {
   "cell_type": "markdown",
   "source": [
    "##### Keyword Arguments"
   ],
   "metadata": {}
  },
  {
   "cell_type": "code",
   "execution_count": null,
   "source": [
    "# last_name='Max', first_name='Smith' in the function call\r\n",
    "\r\n",
    "# see above"
   ],
   "outputs": [],
   "metadata": {}
  },
  {
   "cell_type": "markdown",
   "source": [
    "# Creating a start, stop, step function"
   ],
   "metadata": {}
  },
  {
   "cell_type": "code",
   "execution_count": 89,
   "source": [
    "# aka creating a mimic of the range function\r\n",
    "# for now, my range function mimic must be given all three start, stop, and step values\r\n",
    "\r\n",
    "# This function will accept three integers as input - a start, stop, and step\r\n",
    "# The function will then return a list of all intergers [start, stop) seperated by the step\r\n",
    "\r\n",
    "def rangemimic(start, stop, step):\r\n",
    "    nums = []\r\n",
    "    # I need to create a list from these provided numbers\r\n",
    "    # I'll set up a process to add to my nums list repeatedly until the number im adding reaches my stop\r\n",
    "    while start<stop:\r\n",
    "        nums.append(start)\r\n",
    "        start += step\r\n",
    "    return nums\r\n",
    "\r\n",
    "rangemimic(1, 11, 2)"
   ],
   "outputs": [
    {
     "output_type": "execute_result",
     "data": {
      "text/plain": [
       "[1, 3, 5, 7, 9]"
      ]
     },
     "metadata": {},
     "execution_count": 89
    }
   ],
   "metadata": {}
  },
  {
   "cell_type": "markdown",
   "source": [
    "##### Returning Values"
   ],
   "metadata": {}
  },
  {
   "cell_type": "code",
   "execution_count": null,
   "source": [],
   "outputs": [],
   "metadata": {}
  },
  {
   "cell_type": "markdown",
   "source": [
    "##### *args"
   ],
   "metadata": {}
  },
  {
   "cell_type": "code",
   "execution_count": null,
   "source": [],
   "outputs": [],
   "metadata": {}
  },
  {
   "cell_type": "markdown",
   "source": [
    "##### Docstring"
   ],
   "metadata": {}
  },
  {
   "cell_type": "code",
   "execution_count": null,
   "source": [],
   "outputs": [],
   "metadata": {}
  },
  {
   "cell_type": "markdown",
   "source": [
    "##### Using a User Function in a Loop"
   ],
   "metadata": {}
  },
  {
   "cell_type": "code",
   "execution_count": null,
   "source": [],
   "outputs": [],
   "metadata": {}
  },
  {
   "cell_type": "markdown",
   "source": [
    "## Function Exercise <br>\r\n",
    "<p>Write a function that loops through a list of first_names and a list of last_names, combines the two and return a list of full_names</p>"
   ],
   "metadata": {}
  },
  {
   "cell_type": "code",
   "execution_count": 148,
   "source": [
    "first_name = ['John', 'Evan', 'Jordan', 'Max']\r\n",
    "last_name = ['Smith', 'Smith', 'Williams', 'Bell']\r\n",
    "\r\n",
    "# Output: ['John Smith', 'Evan Smith', 'Jordan Williams', 'Max Bell']\r\n"
   ],
   "outputs": [
    {
     "output_type": "error",
     "ename": "SyntaxError",
     "evalue": "invalid syntax (Temp/ipykernel_10696/3034368707.py, line 9)",
     "traceback": [
      "\u001b[1;36m  File \u001b[1;32m\"C:\\Users\\chris\\AppData\\Local\\Temp/ipykernel_10696/3034368707.py\"\u001b[1;36m, line \u001b[1;32m9\u001b[0m\n\u001b[1;33m    full_list(first_name, last_name)\u001b[0m\n\u001b[1;37m    ^\u001b[0m\n\u001b[1;31mSyntaxError\u001b[0m\u001b[1;31m:\u001b[0m invalid syntax\n"
     ]
    }
   ],
   "metadata": {}
  },
  {
   "cell_type": "markdown",
   "source": [
    "## Scope <br>\n",
    "<p>Scope refers to the ability to access variables, different types of scope include:<br>a) Global<br>b) Function (local)<br>c) Class (local)</p>"
   ],
   "metadata": {}
  },
  {
   "cell_type": "code",
   "execution_count": null,
   "source": [],
   "outputs": [],
   "metadata": {}
  },
  {
   "cell_type": "markdown",
   "source": [
    "# Exercises"
   ],
   "metadata": {}
  },
  {
   "cell_type": "markdown",
   "source": [
    "## Exercise 1 <br>\n",
    "<p>Given a list as a parameter,write a function that returns a list of numbers that are less than ten</b></i></p><br>\n",
    "<p> For example: Say your input parameter to the function is [1,11,14,5,8,9]...Your output should [1,5,8,9]</p>"
   ],
   "metadata": {}
  },
  {
   "cell_type": "code",
   "execution_count": 96,
   "source": [
    "# Use the following list - [1,11,14,5,8,9]\r\n",
    "\r\n",
    "l_1 = [1,11,14,5,8,9]\r\n",
    "\r\n",
    "empty_list = []\r\n",
    "def test_list(lst):\r\n",
    "    for num in lst:\r\n",
    "        if num < 10:\r\n",
    "            empty_list.append(num)\r\n",
    "    return empty_list\r\n",
    "\r\n",
    "print(test_list(l_1))\r\n",
    "\r\n",
    "\r\n"
   ],
   "outputs": [
    {
     "output_type": "stream",
     "name": "stdout",
     "text": [
      "[1, 5, 8, 9]\n"
     ]
    }
   ],
   "metadata": {}
  },
  {
   "cell_type": "markdown",
   "source": [
    "## Exercise 2 <br>\n",
    "<p>Write a function that takes in two lists and returns the two lists merged together and sorted<br>\n",
    "<b><i>Hint: You can use the .sort() method</i></b></p>"
   ],
   "metadata": {}
  },
  {
   "cell_type": "code",
   "execution_count": 105,
   "source": [
    "l_1 = [1,2,3,4,5,6]\r\n",
    "l_2 = [3,4,5,6,7,8,10]\r\n",
    "\r\n",
    "def list_func(list1, list2):\r\n",
    "    full_list = list1 + list2\r\n",
    "    full_list.sort()\r\n",
    "    return full_list\r\n",
    "\r\n",
    "list_func(l_1, l_2)\r\n"
   ],
   "outputs": [
    {
     "output_type": "execute_result",
     "data": {
      "text/plain": [
       "[1, 2, 3, 3, 4, 4, 5, 5, 6, 6, 7, 8, 10]"
      ]
     },
     "metadata": {},
     "execution_count": 105
    }
   ],
   "metadata": {}
  }
 ],
 "metadata": {
  "kernelspec": {
   "name": "python3",
   "display_name": "Python 3.9.6 64-bit"
  },
  "language_info": {
   "codemirror_mode": {
    "name": "ipython",
    "version": 3
   },
   "file_extension": ".py",
   "mimetype": "text/x-python",
   "name": "python",
   "nbconvert_exporter": "python",
   "pygments_lexer": "ipython3",
   "version": "3.9.6"
  },
  "interpreter": {
   "hash": "57990f1ad2ea89c67ddae7f31d40c478205c5912da0fccfb7c5cfbb2b8bf17ad"
  }
 },
 "nbformat": 4,
 "nbformat_minor": 2
}